{
 "cells": [
  {
   "cell_type": "code",
   "execution_count": 19,
   "id": "efe55781-b3e8-4d98-9c31-ff406ac66f0b",
   "metadata": {},
   "outputs": [],
   "source": [
    "import pandas as pd"
   ]
  },
  {
   "cell_type": "code",
   "execution_count": 22,
   "id": "be148448-bc8b-4061-b372-a8b5be651edd",
   "metadata": {},
   "outputs": [],
   "source": [
    "dataset = pd.read_csv(\"train.csv\")"
   ]
  },
  {
   "cell_type": "code",
   "execution_count": 24,
   "id": "26ea0688-dfb6-4d99-b357-139ac6c99842",
   "metadata": {},
   "outputs": [],
   "source": [
    "features = dataset.drop('SalePrice', axis = 1)"
   ]
  },
  {
   "cell_type": "code",
   "execution_count": 25,
   "id": "afbfc3bc-2106-40a8-9897-22ad3338d6d3",
   "metadata": {},
   "outputs": [
    {
     "data": {
      "text/plain": [
       "LotFrontage    17.739726\n",
       "MasVnrArea      0.547945\n",
       "GarageYrBlt     5.547945\n",
       "dtype: float64"
      ]
     },
     "execution_count": 25,
     "metadata": {},
     "output_type": "execute_result"
    }
   ],
   "source": [
    "numerical_with_nan = [feature for feature in dataset.columns if dataset[feature].dtype != 'O' and dataset[feature].isnull().mean()>0]\n",
    "dataset[numerical_with_nan].isnull().mean()*100"
   ]
  },
  {
   "cell_type": "code",
   "execution_count": null,
   "id": "8f5a7f24-0f87-4dd5-be67-6c1f3956d3be",
   "metadata": {},
   "outputs": [],
   "source": []
  }
 ],
 "metadata": {
  "kernelspec": {
   "display_name": "Python 3 (ipykernel)",
   "language": "python",
   "name": "python3"
  },
  "language_info": {
   "codemirror_mode": {
    "name": "ipython",
    "version": 3
   },
   "file_extension": ".py",
   "mimetype": "text/x-python",
   "name": "python",
   "nbconvert_exporter": "python",
   "pygments_lexer": "ipython3",
   "version": "3.11.2"
  }
 },
 "nbformat": 4,
 "nbformat_minor": 5
}
