{
 "cells": [
  {
   "cell_type": "code",
   "execution_count": 71,
   "id": "18c4579d-3b0b-43f2-83eb-33fe7f00844b",
   "metadata": {},
   "outputs": [
    {
     "data": {
      "text/plain": [
       "154.08401826484018"
      ]
     },
     "execution_count": 71,
     "metadata": {},
     "output_type": "execute_result"
    }
   ],
   "source": [
    "import pandas as pd\n",
    "\n",
    "df = pd.read_csv('train.csv')\n",
    "\n",
    "data_features = ['YearBuilt','GrLivArea','GarageArea']\n",
    "\n",
    "X = df[data_features]\n",
    "y = df.SalePrice\n",
    "\n",
    "from sklearn.tree import DecisionTreeRegressor\n",
    "from sklearn.metrics import mean_absolute_error\n",
    "from sklearn.model_selection import train_test_split\n",
    "\n",
    "data_model = DecisionTreeRegressor()\n",
    "data_model.fit(X,y)\n",
    "\n",
    "predicted_price = data_model.predict(X)\n",
    "mean_absolute_error(y, predicted_price)\n",
    "\n",
    "\n",
    "# print(\"Making predictions for the following 5 houses:\")\n",
    "# print(X.head())\n",
    "# print(\"The predictions are\")\n",
    "# print(data_model.predict(X.head()))"
   ]
  },
  {
   "cell_type": "code",
   "execution_count": 72,
   "id": "564ddefa-6f3e-4f70-9056-44d356a28546",
   "metadata": {},
   "outputs": [
    {
     "data": {
      "text/plain": [
       "array([208500., 181500., 223500., ..., 266500., 142125., 147500.])"
      ]
     },
     "execution_count": 72,
     "metadata": {},
     "output_type": "execute_result"
    }
   ],
   "source": [
    "predicted_price"
   ]
  },
  {
   "cell_type": "code",
   "execution_count": 73,
   "id": "025d5aa8-2b0a-447d-96a5-4537f2f7d738",
   "metadata": {},
   "outputs": [
    {
     "data": {
      "text/plain": [
       "0       208500\n",
       "1       181500\n",
       "2       223500\n",
       "3       140000\n",
       "4       250000\n",
       "         ...  \n",
       "1455    175000\n",
       "1456    210000\n",
       "1457    266500\n",
       "1458    142125\n",
       "1459    147500\n",
       "Name: SalePrice, Length: 1460, dtype: int64"
      ]
     },
     "execution_count": 73,
     "metadata": {},
     "output_type": "execute_result"
    }
   ],
   "source": [
    "y"
   ]
  },
  {
   "cell_type": "code",
   "execution_count": null,
   "id": "09e4a2c2-d9fb-46e9-9b05-b0fc0bd37ce9",
   "metadata": {},
   "outputs": [],
   "source": []
  }
 ],
 "metadata": {
  "kernelspec": {
   "display_name": "Python 3 (ipykernel)",
   "language": "python",
   "name": "python3"
  },
  "language_info": {
   "codemirror_mode": {
    "name": "ipython",
    "version": 3
   },
   "file_extension": ".py",
   "mimetype": "text/x-python",
   "name": "python",
   "nbconvert_exporter": "python",
   "pygments_lexer": "ipython3",
   "version": "3.11.2"
  }
 },
 "nbformat": 4,
 "nbformat_minor": 5
}
