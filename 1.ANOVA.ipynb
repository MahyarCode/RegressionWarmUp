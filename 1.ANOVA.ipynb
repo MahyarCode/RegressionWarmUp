{
 "cells": [
  {
   "cell_type": "markdown",
   "id": "12096e72-369e-4e28-92a7-8ca253747bde",
   "metadata": {},
   "source": [
    "# Implementing ANOVA for Categorical variable"
   ]
  },
  {
   "cell_type": "code",
   "execution_count": 75,
   "id": "d38bdf21-ff27-4833-82d1-f1f0a0e219e6",
   "metadata": {},
   "outputs": [],
   "source": [
    "# to import the data\n",
    "import pandas as pd\n",
    "\n",
    "# to visualize the data\n",
    "import seaborn as sns\n",
    "\n",
    "# to do ANOVA\n",
    "import statsmodels.api as sm\n",
    "\n",
    "# to find best fit line in regression\n",
    "from statsmodels.formula.api import ols\n",
    "\n",
    "# ANOVA Post Hoc test: TukeyHSD\n",
    "from statsmodels.stats.multicomp import pairwise_tukeyhsd\n",
    "from statsmodels.stats.multicomp import MultiComparison"
   ]
  },
  {
   "cell_type": "code",
   "execution_count": 67,
   "id": "18d388c9-8258-4574-aa88-bc15de569de4",
   "metadata": {},
   "outputs": [
    {
     "data": {
      "text/html": [
       "<div>\n",
       "<style scoped>\n",
       "    .dataframe tbody tr th:only-of-type {\n",
       "        vertical-align: middle;\n",
       "    }\n",
       "\n",
       "    .dataframe tbody tr th {\n",
       "        vertical-align: top;\n",
       "    }\n",
       "\n",
       "    .dataframe thead th {\n",
       "        text-align: right;\n",
       "    }\n",
       "</style>\n",
       "<table border=\"1\" class=\"dataframe\">\n",
       "  <thead>\n",
       "    <tr style=\"text-align: right;\">\n",
       "      <th></th>\n",
       "      <th>Id</th>\n",
       "      <th>MSSubClass</th>\n",
       "      <th>MSZoning</th>\n",
       "      <th>LotFrontage</th>\n",
       "      <th>LotArea</th>\n",
       "      <th>Street</th>\n",
       "      <th>Alley</th>\n",
       "      <th>LotShape</th>\n",
       "      <th>LandContour</th>\n",
       "      <th>Utilities</th>\n",
       "      <th>...</th>\n",
       "      <th>PoolQC</th>\n",
       "      <th>Fence</th>\n",
       "      <th>MiscFeature</th>\n",
       "      <th>MiscVal</th>\n",
       "      <th>MoSold</th>\n",
       "      <th>YrSold</th>\n",
       "      <th>SaleType</th>\n",
       "      <th>SaleCondition</th>\n",
       "      <th>SalePrice</th>\n",
       "      <th>LogSalePrice</th>\n",
       "    </tr>\n",
       "  </thead>\n",
       "  <tbody>\n",
       "    <tr>\n",
       "      <th>0</th>\n",
       "      <td>1</td>\n",
       "      <td>60</td>\n",
       "      <td>RL</td>\n",
       "      <td>65.0</td>\n",
       "      <td>8450</td>\n",
       "      <td>Pave</td>\n",
       "      <td>NaN</td>\n",
       "      <td>Reg</td>\n",
       "      <td>Lvl</td>\n",
       "      <td>AllPub</td>\n",
       "      <td>...</td>\n",
       "      <td>NaN</td>\n",
       "      <td>NaN</td>\n",
       "      <td>NaN</td>\n",
       "      <td>0</td>\n",
       "      <td>2</td>\n",
       "      <td>2008</td>\n",
       "      <td>WD</td>\n",
       "      <td>Normal</td>\n",
       "      <td>208500</td>\n",
       "      <td>5.32</td>\n",
       "    </tr>\n",
       "    <tr>\n",
       "      <th>1</th>\n",
       "      <td>2</td>\n",
       "      <td>20</td>\n",
       "      <td>RL</td>\n",
       "      <td>80.0</td>\n",
       "      <td>9600</td>\n",
       "      <td>Pave</td>\n",
       "      <td>NaN</td>\n",
       "      <td>Reg</td>\n",
       "      <td>Lvl</td>\n",
       "      <td>AllPub</td>\n",
       "      <td>...</td>\n",
       "      <td>NaN</td>\n",
       "      <td>NaN</td>\n",
       "      <td>NaN</td>\n",
       "      <td>0</td>\n",
       "      <td>5</td>\n",
       "      <td>2007</td>\n",
       "      <td>WD</td>\n",
       "      <td>Normal</td>\n",
       "      <td>181500</td>\n",
       "      <td>5.26</td>\n",
       "    </tr>\n",
       "    <tr>\n",
       "      <th>2</th>\n",
       "      <td>3</td>\n",
       "      <td>60</td>\n",
       "      <td>RL</td>\n",
       "      <td>68.0</td>\n",
       "      <td>11250</td>\n",
       "      <td>Pave</td>\n",
       "      <td>NaN</td>\n",
       "      <td>IR1</td>\n",
       "      <td>Lvl</td>\n",
       "      <td>AllPub</td>\n",
       "      <td>...</td>\n",
       "      <td>NaN</td>\n",
       "      <td>NaN</td>\n",
       "      <td>NaN</td>\n",
       "      <td>0</td>\n",
       "      <td>9</td>\n",
       "      <td>2008</td>\n",
       "      <td>WD</td>\n",
       "      <td>Normal</td>\n",
       "      <td>223500</td>\n",
       "      <td>5.35</td>\n",
       "    </tr>\n",
       "    <tr>\n",
       "      <th>3</th>\n",
       "      <td>4</td>\n",
       "      <td>70</td>\n",
       "      <td>RL</td>\n",
       "      <td>60.0</td>\n",
       "      <td>9550</td>\n",
       "      <td>Pave</td>\n",
       "      <td>NaN</td>\n",
       "      <td>IR1</td>\n",
       "      <td>Lvl</td>\n",
       "      <td>AllPub</td>\n",
       "      <td>...</td>\n",
       "      <td>NaN</td>\n",
       "      <td>NaN</td>\n",
       "      <td>NaN</td>\n",
       "      <td>0</td>\n",
       "      <td>2</td>\n",
       "      <td>2006</td>\n",
       "      <td>WD</td>\n",
       "      <td>Abnorml</td>\n",
       "      <td>140000</td>\n",
       "      <td>5.15</td>\n",
       "    </tr>\n",
       "    <tr>\n",
       "      <th>4</th>\n",
       "      <td>5</td>\n",
       "      <td>60</td>\n",
       "      <td>RL</td>\n",
       "      <td>84.0</td>\n",
       "      <td>14260</td>\n",
       "      <td>Pave</td>\n",
       "      <td>NaN</td>\n",
       "      <td>IR1</td>\n",
       "      <td>Lvl</td>\n",
       "      <td>AllPub</td>\n",
       "      <td>...</td>\n",
       "      <td>NaN</td>\n",
       "      <td>NaN</td>\n",
       "      <td>NaN</td>\n",
       "      <td>0</td>\n",
       "      <td>12</td>\n",
       "      <td>2008</td>\n",
       "      <td>WD</td>\n",
       "      <td>Normal</td>\n",
       "      <td>250000</td>\n",
       "      <td>5.40</td>\n",
       "    </tr>\n",
       "  </tbody>\n",
       "</table>\n",
       "<p>5 rows × 82 columns</p>\n",
       "</div>"
      ],
      "text/plain": [
       "   Id  MSSubClass MSZoning  LotFrontage  LotArea Street Alley LotShape   \n",
       "0   1          60       RL         65.0     8450   Pave   NaN      Reg  \\\n",
       "1   2          20       RL         80.0     9600   Pave   NaN      Reg   \n",
       "2   3          60       RL         68.0    11250   Pave   NaN      IR1   \n",
       "3   4          70       RL         60.0     9550   Pave   NaN      IR1   \n",
       "4   5          60       RL         84.0    14260   Pave   NaN      IR1   \n",
       "\n",
       "  LandContour Utilities  ... PoolQC Fence MiscFeature MiscVal MoSold YrSold   \n",
       "0         Lvl    AllPub  ...    NaN   NaN         NaN       0      2   2008  \\\n",
       "1         Lvl    AllPub  ...    NaN   NaN         NaN       0      5   2007   \n",
       "2         Lvl    AllPub  ...    NaN   NaN         NaN       0      9   2008   \n",
       "3         Lvl    AllPub  ...    NaN   NaN         NaN       0      2   2006   \n",
       "4         Lvl    AllPub  ...    NaN   NaN         NaN       0     12   2008   \n",
       "\n",
       "  SaleType  SaleCondition  SalePrice  LogSalePrice  \n",
       "0       WD         Normal     208500          5.32  \n",
       "1       WD         Normal     181500          5.26  \n",
       "2       WD         Normal     223500          5.35  \n",
       "3       WD        Abnorml     140000          5.15  \n",
       "4       WD         Normal     250000          5.40  \n",
       "\n",
       "[5 rows x 82 columns]"
      ]
     },
     "execution_count": 67,
     "metadata": {},
     "output_type": "execute_result"
    }
   ],
   "source": [
    "df = pd.read_csv(\"train.csv\")\n",
    "df.dropna()\n",
    "df.reset_index()\n",
    "df.head()"
   ]
  },
  {
   "cell_type": "code",
   "execution_count": 68,
   "id": "cf6954f8-c79c-4828-a4f0-f4b26b09c606",
   "metadata": {},
   "outputs": [
    {
     "data": {
      "text/plain": [
       "<Axes: xlabel='SaleCondition', ylabel='SalePrice'>"
      ]
     },
     "execution_count": 68,
     "metadata": {},
     "output_type": "execute_result"
    },
    {
     "data": {
      "image/png": "[encoded data removed]",
      "text/plain": [
       "<Figure size 640x480 with 1 Axes>"
      ]
     },
     "metadata": {},
     "output_type": "display_data"
    }
   ],
   "source": [
    "sns.boxplot(x = \"SaleCondition\", y = \"SalePrice\", data = df)"
   ]
  },
  {
   "cell_type": "markdown",
   "id": "2d74aeda-693b-4ffd-b3ed-cfd98276aa38",
   "metadata": {},
   "source": [
    "in above boxplot chart, we can't do ANOVA because the Normality distribution for variables are rejected"
   ]
  },
  {
   "cell_type": "markdown",
   "id": "2fdd4e8e-c108-4557-a588-5523c56ec65d",
   "metadata": {},
   "source": [
    "to fix this problem, there's a method called: \"transform\". By doing Log10 for dependent varialbe (that is done in csv file) there's a chance to transform data distribution into normal"
   ]
  },
  {
   "cell_type": "code",
   "execution_count": 69,
   "id": "e932703c-ca12-4933-9c0a-b4a792205d93",
   "metadata": {},
   "outputs": [
    {
     "data": {
      "text/plain": [
       "<Axes: xlabel='SaleCondition', ylabel='LogSalePrice'>"
      ]
     },
     "execution_count": 69,
     "metadata": {},
     "output_type": "execute_result"
    },
    {
     "data": {
      "image/png": "[encoded data removed]",
      "text/plain": [
       "<Figure size 640x480 with 1 Axes>"
      ]
     },
     "metadata": {},
     "output_type": "display_data"
    }
   ],
   "source": [
    "sns.boxplot(x = \"SaleCondition\", y = \"LogSalePrice\", data = df)"
   ]
  },
  {
   "cell_type": "markdown",
   "id": "f7a557fa-6847-47dd-ad1f-aca93998a73b",
   "metadata": {},
   "source": [
    "as it can be seen, the data distribution is now normal"
   ]
  },
  {
   "cell_type": "markdown",
   "id": "7cdf5cf6-582b-47e9-97c7-a38efa9ffc2f",
   "metadata": {},
   "source": [
    "now we can do ANOVA to conclude the mean difference"
   ]
  },
  {
   "cell_type": "code",
   "execution_count": 70,
   "id": "de68b46b-c2a7-474d-852a-ee54a387b883",
   "metadata": {},
   "outputs": [],
   "source": [
    "# creating the model\n",
    "model = ols(formula = \"LogSalePrice ~ C(SaleCondition)\", data = df).fit()"
   ]
  },
  {
   "cell_type": "code",
   "execution_count": 71,
   "id": "0da73de7-cd34-47e5-95f1-af82dc0e4bc8",
   "metadata": {},
   "outputs": [
    {
     "data": {
      "text/html": [
       "<table class=\"simpletable\">\n",
       "<caption>OLS Regression Results</caption>\n",
       "<tr>\n",
       "  <th>Dep. Variable:</th>      <td>LogSalePrice</td>   <th>  R-squared:         </th> <td>   0.129</td>\n",
       "</tr>\n",
       "<tr>\n",
       "  <th>Model:</th>                   <td>OLS</td>       <th>  Adj. R-squared:    </th> <td>   0.126</td>\n",
       "</tr>\n",
       "<tr>\n",
       "  <th>Method:</th>             <td>Least Squares</td>  <th>  F-statistic:       </th> <td>   43.21</td>\n",
       "</tr>\n",
       "<tr>\n",
       "  <th>Date:</th>             <td>Wed, 14 Feb 2024</td> <th>  Prob (F-statistic):</th> <td>1.26e-41</td>\n",
       "</tr>\n",
       "<tr>\n",
       "  <th>Time:</th>                 <td>18:29:52</td>     <th>  Log-Likelihood:    </th> <td>  586.90</td>\n",
       "</tr>\n",
       "<tr>\n",
       "  <th>No. Observations:</th>      <td>  1460</td>      <th>  AIC:               </th> <td>  -1162.</td>\n",
       "</tr>\n",
       "<tr>\n",
       "  <th>Df Residuals:</th>          <td>  1454</td>      <th>  BIC:               </th> <td>  -1130.</td>\n",
       "</tr>\n",
       "<tr>\n",
       "  <th>Df Model:</th>              <td>     5</td>      <th>                     </th>     <td> </td>   \n",
       "</tr>\n",
       "<tr>\n",
       "  <th>Covariance Type:</th>      <td>nonrobust</td>    <th>                     </th>     <td> </td>   \n",
       "</tr>\n",
       "</table>\n",
       "<table class=\"simpletable\">\n",
       "<tr>\n",
       "               <td></td>                  <th>coef</th>     <th>std err</th>      <th>t</th>      <th>P>|t|</th>  <th>[0.025</th>    <th>0.975]</th>  \n",
       "</tr>\n",
       "<tr>\n",
       "  <th>Intercept</th>                   <td>    5.1198</td> <td>    0.016</td> <td>  317.203</td> <td> 0.000</td> <td>    5.088</td> <td>    5.151</td>\n",
       "</tr>\n",
       "<tr>\n",
       "  <th>C(SaleCondition)[T.AdjLand]</th> <td>   -0.1123</td> <td>    0.083</td> <td>   -1.358</td> <td> 0.175</td> <td>   -0.275</td> <td>    0.050</td>\n",
       "</tr>\n",
       "<tr>\n",
       "  <th>C(SaleCondition)[T.Alloca]</th>  <td>    0.0560</td> <td>    0.050</td> <td>    1.131</td> <td> 0.258</td> <td>   -0.041</td> <td>    0.153</td>\n",
       "</tr>\n",
       "<tr>\n",
       "  <th>C(SaleCondition)[T.Family]</th>  <td>    0.0337</td> <td>    0.040</td> <td>    0.849</td> <td> 0.396</td> <td>   -0.044</td> <td>    0.112</td>\n",
       "</tr>\n",
       "<tr>\n",
       "  <th>C(SaleCondition)[T.Normal]</th>  <td>    0.0940</td> <td>    0.017</td> <td>    5.594</td> <td> 0.000</td> <td>    0.061</td> <td>    0.127</td>\n",
       "</tr>\n",
       "<tr>\n",
       "  <th>C(SaleCondition)[T.Partial]</th> <td>    0.2865</td> <td>    0.022</td> <td>   13.202</td> <td> 0.000</td> <td>    0.244</td> <td>    0.329</td>\n",
       "</tr>\n",
       "</table>\n",
       "<table class=\"simpletable\">\n",
       "<tr>\n",
       "  <th>Omnibus:</th>       <td>29.056</td> <th>  Durbin-Watson:     </th> <td>   1.962</td>\n",
       "</tr>\n",
       "<tr>\n",
       "  <th>Prob(Omnibus):</th> <td> 0.000</td> <th>  Jarque-Bera (JB):  </th> <td>  52.856</td>\n",
       "</tr>\n",
       "<tr>\n",
       "  <th>Skew:</th>          <td> 0.111</td> <th>  Prob(JB):          </th> <td>3.33e-12</td>\n",
       "</tr>\n",
       "<tr>\n",
       "  <th>Kurtosis:</th>      <td> 3.905</td> <th>  Cond. No.          </th> <td>    25.8</td>\n",
       "</tr>\n",
       "</table><br/><br/>Notes:<br/>[1] Standard Errors assume that the covariance matrix of the errors is correctly specified."
      ],
      "text/latex": [
       "\\begin{center}\n",
       "\\begin{tabular}{lclc}\n",
       "\\toprule\n",
       "\\textbf{Dep. Variable:}              &   LogSalePrice   & \\textbf{  R-squared:         } &     0.129   \\\\\n",
       "\\textbf{Model:}                      &       OLS        & \\textbf{  Adj. R-squared:    } &     0.126   \\\\\n",
       "\\textbf{Method:}                     &  Least Squares   & \\textbf{  F-statistic:       } &     43.21   \\\\\n",
       "\\textbf{Date:}                       & Wed, 14 Feb 2024 & \\textbf{  Prob (F-statistic):} &  1.26e-41   \\\\\n",
       "\\textbf{Time:}                       &     18:29:52     & \\textbf{  Log-Likelihood:    } &    586.90   \\\\\n",
       "\\textbf{No. Observations:}           &        1460      & \\textbf{  AIC:               } &    -1162.   \\\\\n",
       "\\textbf{Df Residuals:}               &        1454      & \\textbf{  BIC:               } &    -1130.   \\\\\n",
       "\\textbf{Df Model:}                   &           5      & \\textbf{                     } &             \\\\\n",
       "\\textbf{Covariance Type:}            &    nonrobust     & \\textbf{                     } &             \\\\\n",
       "\\bottomrule\n",
       "\\end{tabular}\n",
       "\\begin{tabular}{lcccccc}\n",
       "                                     & \\textbf{coef} & \\textbf{std err} & \\textbf{t} & \\textbf{P$> |$t$|$} & \\textbf{[0.025} & \\textbf{0.975]}  \\\\\n",
       "\\midrule\n",
       "\\textbf{Intercept}                   &       5.1198  &        0.016     &   317.203  &         0.000        &        5.088    &        5.151     \\\\\n",
       "\\textbf{C(SaleCondition)[T.AdjLand]} &      -0.1123  &        0.083     &    -1.358  &         0.175        &       -0.275    &        0.050     \\\\\n",
       "\\textbf{C(SaleCondition)[T.Alloca]}  &       0.0560  &        0.050     &     1.131  &         0.258        &       -0.041    &        0.153     \\\\\n",
       "\\textbf{C(SaleCondition)[T.Family]}  &       0.0337  &        0.040     &     0.849  &         0.396        &       -0.044    &        0.112     \\\\\n",
       "\\textbf{C(SaleCondition)[T.Normal]}  &       0.0940  &        0.017     &     5.594  &         0.000        &        0.061    &        0.127     \\\\\n",
       "\\textbf{C(SaleCondition)[T.Partial]} &       0.2865  &        0.022     &    13.202  &         0.000        &        0.244    &        0.329     \\\\\n",
       "\\bottomrule\n",
       "\\end{tabular}\n",
       "\\begin{tabular}{lclc}\n",
       "\\textbf{Omnibus:}       & 29.056 & \\textbf{  Durbin-Watson:     } &    1.962  \\\\\n",
       "\\textbf{Prob(Omnibus):} &  0.000 & \\textbf{  Jarque-Bera (JB):  } &   52.856  \\\\\n",
       "\\textbf{Skew:}          &  0.111 & \\textbf{  Prob(JB):          } & 3.33e-12  \\\\\n",
       "\\textbf{Kurtosis:}      &  3.905 & \\textbf{  Cond. No.          } &     25.8  \\\\\n",
       "\\bottomrule\n",
       "\\end{tabular}\n",
       "%\\caption{OLS Regression Results}\n",
       "\\end{center}\n",
       "\n",
       "Notes: \\newline\n",
       " [1] Standard Errors assume that the covariance matrix of the errors is correctly specified."
      ],
      "text/plain": [
       "<class 'statsmodels.iolib.summary.Summary'>\n",
       "\"\"\"\n",
       "                            OLS Regression Results                            \n",
       "==============================================================================\n",
       "Dep. Variable:           LogSalePrice   R-squared:                       0.129\n",
       "Model:                            OLS   Adj. R-squared:                  0.126\n",
       "Method:                 Least Squares   F-statistic:                     43.21\n",
       "Date:                Wed, 14 Feb 2024   Prob (F-statistic):           1.26e-41\n",
       "Time:                        18:29:52   Log-Likelihood:                 586.90\n",
       "No. Observations:                1460   AIC:                            -1162.\n",
       "Df Residuals:                    1454   BIC:                            -1130.\n",
       "Df Model:                           5                                         \n",
       "Covariance Type:            nonrobust                                         \n",
       "===============================================================================================\n",
       "                                  coef    std err          t      P>|t|      [0.025      0.975]\n",
       "-----------------------------------------------------------------------------------------------\n",
       "Intercept                       5.1198      0.016    317.203      0.000       5.088       5.151\n",
       "C(SaleCondition)[T.AdjLand]    -0.1123      0.083     -1.358      0.175      -0.275       0.050\n",
       "C(SaleCondition)[T.Alloca]      0.0560      0.050      1.131      0.258      -0.041       0.153\n",
       "C(SaleCondition)[T.Family]      0.0337      0.040      0.849      0.396      -0.044       0.112\n",
       "C(SaleCondition)[T.Normal]      0.0940      0.017      5.594      0.000       0.061       0.127\n",
       "C(SaleCondition)[T.Partial]     0.2865      0.022     13.202      0.000       0.244       0.329\n",
       "==============================================================================\n",
       "Omnibus:                       29.056   Durbin-Watson:                   1.962\n",
       "Prob(Omnibus):                  0.000   Jarque-Bera (JB):               52.856\n",
       "Skew:                           0.111   Prob(JB):                     3.33e-12\n",
       "Kurtosis:                       3.905   Cond. No.                         25.8\n",
       "==============================================================================\n",
       "\n",
       "Notes:\n",
       "[1] Standard Errors assume that the covariance matrix of the errors is correctly specified.\n",
       "\"\"\""
      ]
     },
     "execution_count": 71,
     "metadata": {},
     "output_type": "execute_result"
    }
   ],
   "source": [
    "# see the result\n",
    "model.summary()"
   ]
  },
  {
   "cell_type": "markdown",
   "id": "498f1c85-2e35-4e61-ae74-820b8cc10fd3",
   "metadata": {},
   "source": [
    "the result of OLS Regression is acceptable because all of assumptions have been met; but R-squared = 0.129 shows a weak coefficient to rely on for forcasting"
   ]
  },
  {
   "cell_type": "markdown",
   "id": "1688ce79-b26f-40d6-84cb-e02231cc0a3b",
   "metadata": {},
   "source": [
    "this means that there are other variables that effect the SalePrice"
   ]
  },
  {
   "cell_type": "markdown",
   "id": "5eac5576-ec71-47fe-b59b-b3efbf8e2344",
   "metadata": {},
   "source": [
    "## One-Way ANOVA"
   ]
  },
  {
   "cell_type": "code",
   "execution_count": 72,
   "id": "18ab8c0b-eec4-4259-9356-f0eae31d42d5",
   "metadata": {},
   "outputs": [
    {
     "data": {
      "text/html": [
       "<div>\n",
       "<style scoped>\n",
       "    .dataframe tbody tr th:only-of-type {\n",
       "        vertical-align: middle;\n",
       "    }\n",
       "\n",
       "    .dataframe tbody tr th {\n",
       "        vertical-align: top;\n",
       "    }\n",
       "\n",
       "    .dataframe thead th {\n",
       "        text-align: right;\n",
       "    }\n",
       "</style>\n",
       "<table border=\"1\" class=\"dataframe\">\n",
       "  <thead>\n",
       "    <tr style=\"text-align: right;\">\n",
       "      <th></th>\n",
       "      <th>sum_sq</th>\n",
       "      <th>df</th>\n",
       "      <th>F</th>\n",
       "      <th>PR(&gt;F)</th>\n",
       "    </tr>\n",
       "  </thead>\n",
       "  <tbody>\n",
       "    <tr>\n",
       "      <th>C(SaleCondition)</th>\n",
       "      <td>5.685171</td>\n",
       "      <td>5.0</td>\n",
       "      <td>43.213561</td>\n",
       "      <td>1.259524e-41</td>\n",
       "    </tr>\n",
       "    <tr>\n",
       "      <th>Residual</th>\n",
       "      <td>38.257615</td>\n",
       "      <td>1454.0</td>\n",
       "      <td>NaN</td>\n",
       "      <td>NaN</td>\n",
       "    </tr>\n",
       "  </tbody>\n",
       "</table>\n",
       "</div>"
      ],
      "text/plain": [
       "                     sum_sq      df          F        PR(>F)\n",
       "C(SaleCondition)   5.685171     5.0  43.213561  1.259524e-41\n",
       "Residual          38.257615  1454.0        NaN           NaN"
      ]
     },
     "execution_count": 72,
     "metadata": {},
     "output_type": "execute_result"
    }
   ],
   "source": [
    "sm.stats.anova_lm(model, typ=2)"
   ]
  },
  {
   "cell_type": "markdown",
   "id": "01aa8a0a-4ebe-49c1-b725-4019c05a343b",
   "metadata": {},
   "source": [
    "The P-value almost equal to 0 which less than 0.05 and shows each Salecondition elements have statistically significant difference between their mean difference  "
   ]
  },
  {
   "cell_type": "markdown",
   "id": "5c748651-c813-4120-a7ff-4d65cd7c609e",
   "metadata": {},
   "source": [
    "to see where is the difference happens, we will do TukeyHSD Post-Hoc test"
   ]
  },
  {
   "cell_type": "code",
   "execution_count": 73,
   "id": "f4598874-dda0-44cd-bf9a-e6cd8580febd",
   "metadata": {},
   "outputs": [],
   "source": [
    "tukey_oneway = pairwise_tukeyhsd(endog = df[\"LogSalePrice\"], groups = df[\"SaleCondition\"], alpha = 0.05)"
   ]
  },
  {
   "cell_type": "code",
   "execution_count": 74,
   "id": "ecb10133-97be-444c-bc87-3b0933e572c5",
   "metadata": {},
   "outputs": [
    {
     "data": {
      "text/html": [
       "<table class=\"simpletable\">\n",
       "<caption>Multiple Comparison of Means - Tukey HSD, FWER=0.05</caption>\n",
       "<tr>\n",
       "  <th>group1</th>  <th>group2</th>  <th>meandiff</th>  <th>p-adj</th>  <th>lower</th>   <th>upper</th> <th>reject</th>\n",
       "</tr>\n",
       "<tr>\n",
       "  <td>Abnorml</td> <td>AdjLand</td>  <td>-0.1123</td> <td>0.7521</td> <td>-0.3483</td> <td>0.1237</td>  <td>False</td>\n",
       "</tr>\n",
       "<tr>\n",
       "  <td>Abnorml</td> <td>Alloca</td>    <td>0.056</td>  <td>0.8684</td> <td>-0.0853</td> <td>0.1974</td>  <td>False</td>\n",
       "</tr>\n",
       "<tr>\n",
       "  <td>Abnorml</td> <td>Family</td>   <td>0.0337</td>  <td>0.9582</td> <td>-0.0796</td>  <td>0.147</td>  <td>False</td>\n",
       "</tr>\n",
       "<tr>\n",
       "  <td>Abnorml</td> <td>Normal</td>    <td>0.094</td>    <td>0.0</td>  <td>0.0461</td>   <td>0.142</td>  <td>True</td> \n",
       "</tr>\n",
       "<tr>\n",
       "  <td>Abnorml</td> <td>Partial</td>  <td>0.2865</td>    <td>0.0</td>  <td>0.2246</td>  <td>0.3484</td>  <td>True</td> \n",
       "</tr>\n",
       "<tr>\n",
       "  <td>AdjLand</td> <td>Alloca</td>   <td>0.1683</td>  <td>0.4677</td> <td>-0.0989</td> <td>0.4356</td>  <td>False</td>\n",
       "</tr>\n",
       "<tr>\n",
       "  <td>AdjLand</td> <td>Family</td>    <td>0.146</td>  <td>0.5698</td> <td>-0.1075</td> <td>0.3995</td>  <td>False</td>\n",
       "</tr>\n",
       "<tr>\n",
       "  <td>AdjLand</td> <td>Normal</td>   <td>0.2063</td>  <td>0.1134</td> <td>-0.0255</td> <td>0.4381</td>  <td>False</td>\n",
       "</tr>\n",
       "<tr>\n",
       "  <td>AdjLand</td> <td>Partial</td>  <td>0.3988</td>    <td>0.0</td>  <td>0.1637</td>  <td>0.6339</td>  <td>True</td> \n",
       "</tr>\n",
       "<tr>\n",
       "  <td>Alloca</td>  <td>Family</td>   <td>-0.0223</td>  <td>0.999</td> <td>-0.1913</td> <td>0.1467</td>  <td>False</td>\n",
       "</tr>\n",
       "<tr>\n",
       "  <td>Alloca</td>  <td>Normal</td>    <td>0.038</td>  <td>0.9663</td> <td>-0.0963</td> <td>0.1723</td>  <td>False</td>\n",
       "</tr>\n",
       "<tr>\n",
       "  <td>Alloca</td>  <td>Partial</td>  <td>0.2305</td>    <td>0.0</td>  <td>0.0906</td>  <td>0.3704</td>  <td>True</td> \n",
       "</tr>\n",
       "<tr>\n",
       "  <td>Family</td>  <td>Normal</td>   <td>0.0603</td>  <td>0.5657</td> <td>-0.044</td>  <td>0.1647</td>  <td>False</td>\n",
       "</tr>\n",
       "<tr>\n",
       "  <td>Family</td>  <td>Partial</td>  <td>0.2528</td>    <td>0.0</td>  <td>0.1413</td>  <td>0.3643</td>  <td>True</td> \n",
       "</tr>\n",
       "<tr>\n",
       "  <td>Normal</td>  <td>Partial</td>  <td>0.1925</td>    <td>0.0</td>   <td>0.149</td>   <td>0.236</td>  <td>True</td> \n",
       "</tr>\n",
       "</table>"
      ],
      "text/latex": [
       "\\begin{center}\n",
       "\\begin{tabular}{ccccccc}\n",
       "\\toprule\n",
       "\\textbf{group1} & \\textbf{group2} & \\textbf{meandiff} & \\textbf{p-adj} & \\textbf{lower} & \\textbf{upper} & \\textbf{reject}  \\\\\n",
       "\\midrule\n",
       "    Abnorml     &     AdjLand     &      -0.1123      &     0.7521     &    -0.3483     &     0.1237     &      False       \\\\\n",
       "    Abnorml     &      Alloca     &       0.056       &     0.8684     &    -0.0853     &     0.1974     &      False       \\\\\n",
       "    Abnorml     &      Family     &       0.0337      &     0.9582     &    -0.0796     &     0.147      &      False       \\\\\n",
       "    Abnorml     &      Normal     &       0.094       &      0.0       &     0.0461     &     0.142      &       True       \\\\\n",
       "    Abnorml     &     Partial     &       0.2865      &      0.0       &     0.2246     &     0.3484     &       True       \\\\\n",
       "    AdjLand     &      Alloca     &       0.1683      &     0.4677     &    -0.0989     &     0.4356     &      False       \\\\\n",
       "    AdjLand     &      Family     &       0.146       &     0.5698     &    -0.1075     &     0.3995     &      False       \\\\\n",
       "    AdjLand     &      Normal     &       0.2063      &     0.1134     &    -0.0255     &     0.4381     &      False       \\\\\n",
       "    AdjLand     &     Partial     &       0.3988      &      0.0       &     0.1637     &     0.6339     &       True       \\\\\n",
       "     Alloca     &      Family     &      -0.0223      &     0.999      &    -0.1913     &     0.1467     &      False       \\\\\n",
       "     Alloca     &      Normal     &       0.038       &     0.9663     &    -0.0963     &     0.1723     &      False       \\\\\n",
       "     Alloca     &     Partial     &       0.2305      &      0.0       &     0.0906     &     0.3704     &       True       \\\\\n",
       "     Family     &      Normal     &       0.0603      &     0.5657     &     -0.044     &     0.1647     &      False       \\\\\n",
       "     Family     &     Partial     &       0.2528      &      0.0       &     0.1413     &     0.3643     &       True       \\\\\n",
       "     Normal     &     Partial     &       0.1925      &      0.0       &     0.149      &     0.236      &       True       \\\\\n",
       "\\bottomrule\n",
       "\\end{tabular}\n",
       "%\\caption{Multiple Comparison of Means - Tukey HSD, FWER=0.05}\n",
       "\\end{center}"
      ],
      "text/plain": [
       "<class 'statsmodels.iolib.table.SimpleTable'>"
      ]
     },
     "execution_count": 74,
     "metadata": {},
     "output_type": "execute_result"
    }
   ],
   "source": [
    "tukey_oneway.summary()"
   ]
  },
  {
   "cell_type": "markdown",
   "id": "e4e055b6-eea7-4c19-9a8d-b2a03109ca57",
   "metadata": {},
   "source": [
    "for each p-adj which is lower than 0.05, we will reject the Null Hypothesis. this means that there is statistically significant difference between group1 and group2"
   ]
  },
  {
   "cell_type": "markdown",
   "id": "bcf246c7-7fb5-439f-b121-9ec5f0a15c33",
   "metadata": {},
   "source": [
    "## Two-Way ANOVA"
   ]
  },
  {
   "cell_type": "markdown",
   "id": "ecdc741b-3276-435a-8721-8a2223a4edf0",
   "metadata": {},
   "source": [
    "In One-Way ANOVA we can do our anlaysis with only one independent variable"
   ]
  },
  {
   "cell_type": "markdown",
   "id": "fb27fdba-0f5a-436f-ab5f-caee20f3be8c",
   "metadata": {},
   "source": [
    "but in Two-Way ANOVA, we can import more than one variable"
   ]
  },
  {
   "cell_type": "code",
   "execution_count": 76,
   "id": "1435ae85-189c-49ed-a773-5ec611feda55",
   "metadata": {},
   "outputs": [],
   "source": [
    "second_model = ols(formula = \"LogSalePrice ~ C(SaleCondition) + C(HeatingQC) + C(SaleCondition):C(HeatingQC)\", data = df).fit()"
   ]
  },
  {
   "cell_type": "code",
   "execution_count": 78,
   "id": "332ebc16-89e2-4980-a8f3-cdd5d0b913f7",
   "metadata": {},
   "outputs": [
    {
     "name": "stderr",
     "output_type": "stream",
     "text": [
      "C:\\Users\\Mahyar\\AppData\\Local\\Programs\\Python\\Python311\\Lib\\site-packages\\statsmodels\\base\\model.py:1896: ValueWarning: covariance of constraints does not have full rank. The number of constraints is 20, but rank is 11\n",
      "  warnings.warn('covariance of constraints does not have full '\n"
     ]
    },
    {
     "data": {
      "text/html": [
       "<div>\n",
       "<style scoped>\n",
       "    .dataframe tbody tr th:only-of-type {\n",
       "        vertical-align: middle;\n",
       "    }\n",
       "\n",
       "    .dataframe tbody tr th {\n",
       "        vertical-align: top;\n",
       "    }\n",
       "\n",
       "    .dataframe thead th {\n",
       "        text-align: right;\n",
       "    }\n",
       "</style>\n",
       "<table border=\"1\" class=\"dataframe\">\n",
       "  <thead>\n",
       "    <tr style=\"text-align: right;\">\n",
       "      <th></th>\n",
       "      <th>sum_sq</th>\n",
       "      <th>df</th>\n",
       "      <th>F</th>\n",
       "      <th>PR(&gt;F)</th>\n",
       "    </tr>\n",
       "  </thead>\n",
       "  <tbody>\n",
       "    <tr>\n",
       "      <th>Intercept</th>\n",
       "      <td>1053.520256</td>\n",
       "      <td>1.0</td>\n",
       "      <td>48824.636434</td>\n",
       "      <td>0.000000e+00</td>\n",
       "    </tr>\n",
       "    <tr>\n",
       "      <th>C(SaleCondition)</th>\n",
       "      <td>2.071558</td>\n",
       "      <td>5.0</td>\n",
       "      <td>19.200977</td>\n",
       "      <td>1.544307e-18</td>\n",
       "    </tr>\n",
       "    <tr>\n",
       "      <th>C(HeatingQC)</th>\n",
       "      <td>0.636269</td>\n",
       "      <td>4.0</td>\n",
       "      <td>7.371857</td>\n",
       "      <td>7.085882e-06</td>\n",
       "    </tr>\n",
       "    <tr>\n",
       "      <th>C(SaleCondition):C(HeatingQC)</th>\n",
       "      <td>0.373008</td>\n",
       "      <td>20.0</td>\n",
       "      <td>0.864339</td>\n",
       "      <td>5.752860e-01</td>\n",
       "    </tr>\n",
       "    <tr>\n",
       "      <th>Residual</th>\n",
       "      <td>31.093374</td>\n",
       "      <td>1441.0</td>\n",
       "      <td>NaN</td>\n",
       "      <td>NaN</td>\n",
       "    </tr>\n",
       "  </tbody>\n",
       "</table>\n",
       "</div>"
      ],
      "text/plain": [
       "                                    sum_sq      df             F        PR(>F)\n",
       "Intercept                      1053.520256     1.0  48824.636434  0.000000e+00\n",
       "C(SaleCondition)                  2.071558     5.0     19.200977  1.544307e-18\n",
       "C(HeatingQC)                      0.636269     4.0      7.371857  7.085882e-06\n",
       "C(SaleCondition):C(HeatingQC)     0.373008    20.0      0.864339  5.752860e-01\n",
       "Residual                         31.093374  1441.0           NaN           NaN"
      ]
     },
     "execution_count": 78,
     "metadata": {},
     "output_type": "execute_result"
    }
   ],
   "source": [
    "sm.stats.anova_lm(second_model, typ=3)"
   ]
  },
  {
   "cell_type": "markdown",
   "id": "cc63ed2a-8f54-44f6-b52d-1d0720b1c841",
   "metadata": {},
   "source": [
    "as the result shows in the 3rd row which is the interaction of SaleCondition and HeatingQC (which in reality these variables have nothing to do with each other) is calculated."
   ]
  },
  {
   "cell_type": "markdown",
   "id": "dc33b0b5-fa49-4745-8719-1eac9584dccf",
   "metadata": {},
   "source": [
    "the P-value is 0.575 which is greater than 0.05 which accept the Null Hypothesis that there is not statistically significant between the mean difference of LogSalePrice for each SaleCondition and HeatingQC"
   ]
  },
  {
   "cell_type": "code",
   "execution_count": null,
   "id": "5c952cf6-60e6-4754-b507-c75eaf3289f9",
   "metadata": {},
   "outputs": [],
   "source": []
  }
 ],
 "metadata": {
  "kernelspec": {
   "display_name": "Python 3 (ipykernel)",
   "language": "python",
   "name": "python3"
  },
  "language_info": {
   "codemirror_mode": {
    "name": "ipython",
    "version": 3
   },
   "file_extension": ".py",
   "mimetype": "text/x-python",
   "name": "python",
   "nbconvert_exporter": "python",
   "pygments_lexer": "ipython3",
   "version": "3.11.2"
  }
 },
 "nbformat": 4,
 "nbformat_minor": 5
}
